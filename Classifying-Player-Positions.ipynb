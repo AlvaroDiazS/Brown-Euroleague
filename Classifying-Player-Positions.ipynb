{
 "cells": [
  {
   "cell_type": "markdown",
   "metadata": {},
   "source": [
    "# Classifying Player Positions\n",
    "\n",
    "The objective is try to classificate player in the three position that appears in the Euroleague stats: guards, forwards and centers. We are going to work from the average data of the players extracted with the previous part of scrapping."
   ]
  },
  {
   "cell_type": "code",
   "execution_count": 1,
   "metadata": {},
   "outputs": [],
   "source": [
    "import pandas as pd\n",
    "import numpy as np\n",
    "from sklearn import svm, neighbors, ensemble\n",
    "from sklearn.metrics import confusion_matrix, accuracy_score, classification_report\n",
    "from sklearn.model_selection import train_test_split\n",
    "\n",
    "from sklearn.decomposition import PCA\n",
    "\n",
    "import matplotlib.pyplot as plt\n",
    "import seaborn as sns"
   ]
  },
  {
   "cell_type": "markdown",
   "metadata": {},
   "source": [
    "## Data Preparation\n",
    "The first part, as always, includes data loading and filtering. We are going to use only the following stats for posterior classification: \n",
    "* Avg: points average\n",
    "* 2FG_%: 2 points shooting percentage\n",
    "* 3FG_%: 3 points shooting percentage\n",
    "* FT_%:  free throw shooting percentage\n",
    "* Reb: rebounds\n",
    "* St: steals\n",
    "* As: assits\n",
    "* Bl: blocks"
   ]
  },
  {
   "cell_type": "code",
   "execution_count": 2,
   "metadata": {},
   "outputs": [],
   "source": [
    "sFolder = '/Users/alvar/Documents/GitHub/Brown-Euroleague/Data/'\n",
    "featureVecsPd = pd.read_csv(sFolder + \"euroleaguePlayers_average.csv\",delimiter=',')\n",
    "#filter NA values\n",
    "featureVecsPd =  featureVecsPd.dropna() #me modifica los valores, na...solo quiero eliminar las filas con algun na\n",
    "\n",
    "#important columns\n",
    "indexs = [11,13,15,17,18,19,20,21]\n",
    "\n",
    "#extract features\n",
    "featureVecs = featureVecsPd.iloc[:,[11,13,15,17,18,19,20,21]].to_numpy()\n",
    "\n",
    "#Get colnames\n",
    "colNames = [featureVecsPd.columns.tolist()[index] for index in indexs]\n",
    "\n",
    "# Get Names and Position\n",
    "labNames = featureVecsPd.iloc[:,0].to_numpy().tolist()\n",
    "labPosCat = featureVecsPd.iloc[:,5].to_numpy()"
   ]
  },
  {
   "cell_type": "code",
   "execution_count": 3,
   "metadata": {},
   "outputs": [],
   "source": [
    "#postion character to number (for ML algoriths)\n",
    "labPos = np.where(labPosCat == \"Guard\", 0, labPosCat)\n",
    "labPos = np.where(labPos == \"Forward\", 1, labPos)\n",
    "labPos = np.where(labPos == \"Center\", 2, labPos)\n",
    "labPos = labPos.tolist()"
   ]
  },
  {
   "cell_type": "code",
   "execution_count": 4,
   "metadata": {},
   "outputs": [
    {
     "name": "stdout",
     "output_type": "stream",
     "text": [
      "LLULL, SERGIO Position: 0\n",
      "Column names: ['Avg', '2FG_%', '3FG_%', 'FT_%', 'Reb', 'St', 'As', 'Bl']\n",
      "LLULL, SERGIO Features: [10.5 49.5 34.2 82.5  1.7  0.6  3.8  0.1]\n"
     ]
    }
   ],
   "source": [
    "#see and exemple of player\n",
    "sPlayer = 'LLULL, SERGIO'\n",
    "print(sPlayer + ' Position: ' + str(labPos[labNames.index(sPlayer)]))\n",
    "print('Column names: ' + str(colNames))\n",
    "print(sPlayer + ' Features: ' + str(featureVecs[labNames.index(sPlayer)]))"
   ]
  },
  {
   "cell_type": "markdown",
   "metadata": {},
   "source": [
    "## Machine Learning algorithms\n",
    "\n",
    "Before train the models, we have to split the data between training data and test data. I use 80/20 proportion in a single fold.\n",
    "\n"
   ]
  },
  {
   "cell_type": "code",
   "execution_count": 5,
   "metadata": {},
   "outputs": [],
   "source": [
    "featVecs_train, featVecs_test, labels_train,labels_test, names_train, names_test = train_test_split(featureVecs, labPos,labNames, test_size=0.2, random_state=0)"
   ]
  },
  {
   "cell_type": "markdown",
   "metadata": {},
   "source": [
    "Scikit-learn has a bunch of possible classifiers to be used in this kind of scenario (https://scikit-learn.org/stable/auto_examples/classification/plot_classifier_comparison.html)\n",
    "\n",
    "I will stick to Support Vector Machines, K-Neighbors and RandomForest without tunning the hyperparametres, only adjusting a few but not using a grid search for the best ones."
   ]
  },
  {
   "cell_type": "markdown",
   "metadata": {},
   "source": [
    "### Support Vector Machine"
   ]
  },
  {
   "cell_type": "code",
   "execution_count": 6,
   "metadata": {},
   "outputs": [
    {
     "name": "stdout",
     "output_type": "stream",
     "text": [
      "Accuracy train SVM: 0.6184\n",
      "Accuracy test SVM: 0.6923\n"
     ]
    },
    {
     "data": {
      "image/png": "[encoded data removed]",
      "text/plain": [
       "<Figure size 648x432 with 2 Axes>"
      ]
     },
     "metadata": {
      "needs_background": "light"
     },
     "output_type": "display_data"
    },
    {
     "name": "stdout",
     "output_type": "stream",
     "text": [
      "Classification Report SVM\n",
      "              precision    recall  f1-score   support\n",
      "\n",
      "       Guard       0.67      0.87      0.75        23\n",
      "     Forward       0.60      0.47      0.53        19\n",
      "      Center       1.00      0.70      0.82        10\n",
      "\n",
      "    accuracy                           0.69        52\n",
      "   macro avg       0.76      0.68      0.70        52\n",
      "weighted avg       0.71      0.69      0.69        52\n",
      "\n"
     ]
    }
   ],
   "source": [
    "# Classifie\n",
    "clf = svm.SVC(random_state=1)\n",
    "#Train\n",
    "clf.fit(featVecs_train, labels_train)\n",
    "#Predict\n",
    "pred_train = clf.predict(featVecs_train)\n",
    "pred_test = clf.predict(featVecs_test)\n",
    "\n",
    "#Accuracy\n",
    "print('Accuracy train SVM: ' + str(accuracy_score(labels_train, pred_train).round(4)))\n",
    "print('Accuracy test SVM: ' + str(accuracy_score(labels_test, pred_test).round(4)))\n",
    "\n",
    "#Confusion Matrix\n",
    "cm = confusion_matrix(y_true =labels_test,\n",
    "                      y_pred =pred_test, labels=[0,1,2])\n",
    "\n",
    "\n",
    "ax= plt.subplot()\n",
    "sns.heatmap(cm, annot=True, fmt='g', ax=ax)  \n",
    "# labels, title and ticks\n",
    "lbls = list([\"Guard\", \"Forward\", \"Center\"])\n",
    "ax.set_xlabel('Prediccions')\n",
    "ax.set_ylabel('Original labels')\n",
    "ax.set_title('Confusion matrix SVM')\n",
    "ax.xaxis.set_ticklabels(lbls) \n",
    "plt.xticks(rotation=90)\n",
    "plt.yticks(np.arange(0.5, 3.5, 1.0))\n",
    "ax.yaxis.set_ticklabels(lbls)\n",
    "plt.yticks(rotation=0)\n",
    "\n",
    "plt.gcf().set_size_inches(9, 6)\n",
    "plt.show()\n",
    "\n",
    "#Clasification Report\n",
    "print(\"Classification Report SVM\")\n",
    "print(classification_report(labels_test, pred_test, target_names=[\"Guard\", \"Forward\", \"Center\"]))"
   ]
  },
  {
   "cell_type": "code",
   "execution_count": 7,
   "metadata": {},
   "outputs": [
    {
     "name": "stdout",
     "output_type": "stream",
     "text": [
      "KARASEV, SERGEY - Predicted: 0, Real: 1\n",
      "BALBAY, DOGUS - Predicted: 1, Real: 0\n",
      "CLYBURN, WILL - Predicted: 0, Real: 1\n",
      "VESELY, JAN - Predicted: 1, Real: 2\n",
      "SIMONOVIC, MARKO - Predicted: 0, Real: 1\n",
      "KAHUDI, CHARLES - Predicted: 0, Real: 1\n",
      "MILUTINOV, NIKOLA - Predicted: 1, Real: 2\n",
      "JAGODIC-KURIDZA, MARKO - Predicted: 0, Real: 1\n",
      "PIERRE, DYSHAWN - Predicted: 0, Real: 1\n",
      "MORETTI, DAVIDE - Predicted: 1, Real: 0\n",
      "FONTECCHIO, SIMONE - Predicted: 0, Real: 1\n",
      "JOVIC, STEFAN - Predicted: 1, Real: 0\n",
      "SINGLETON, CHRIS - Predicted: 0, Real: 1\n",
      "ANTONOV, SEMEN - Predicted: 0, Real: 1\n",
      "BOOKER, DEVIN - Predicted: 1, Real: 2\n",
      "MONIA, SERGEY - Predicted: 0, Real: 1\n"
     ]
    }
   ],
   "source": [
    "#Print failure cases\n",
    "for iTest in range(0, len(featVecs_test)):\n",
    "    pred = pred_test[iTest]\n",
    "    if pred != labels_test[iTest]:\n",
    "        print(str(names_test[iTest]) + ' - Predicted: ' + str(pred) + ', Real: ' + str(labels_test[iTest]))"
   ]
  },
  {
   "cell_type": "markdown",
   "metadata": {},
   "source": [
    "#### Comments\n",
    "accuracy of the model is not bad, 69% of the players in the proper position. We see that the different position are not complety balanced, this can give us problems with the accuracy.\n"
   ]
  },
  {
   "cell_type": "markdown",
   "metadata": {},
   "source": [
    "### K Neighbors Classifier\n",
    "\n"
   ]
  },
  {
   "cell_type": "code",
   "execution_count": 8,
   "metadata": {
    "scrolled": false
   },
   "outputs": [
    {
     "name": "stdout",
     "output_type": "stream",
     "text": [
      "Accuracy train KNeighborsClassifier: 0.7101\n",
      "Accuracy test KNeighborsClassifier: 0.6923\n"
     ]
    },
    {
     "data": {
      "image/png": "[encoded data removed]",
      "text/plain": [
       "<Figure size 648x432 with 2 Axes>"
      ]
     },
     "metadata": {
      "needs_background": "light"
     },
     "output_type": "display_data"
    },
    {
     "name": "stdout",
     "output_type": "stream",
     "text": [
      "Clasification report KNeighborsClassifier\n",
      "              precision    recall  f1-score   support\n",
      "\n",
      "       Guard       0.72      0.78      0.75        23\n",
      "     Forward       0.61      0.58      0.59        19\n",
      "      Center       0.78      0.70      0.74        10\n",
      "\n",
      "    accuracy                           0.69        52\n",
      "   macro avg       0.70      0.69      0.69        52\n",
      "weighted avg       0.69      0.69      0.69        52\n",
      "\n",
      "KARASEV, SERGEY - Predicted: 0, Real: 1\n",
      "THOMAS, WILL - Predicted: 2, Real: 1\n",
      "PUERTO, JOSEP - Predicted: 2, Real: 0\n",
      "SASTRE, JOAN - Predicted: 1, Real: 0\n",
      "MILUTINOV, NIKOLA - Predicted: 1, Real: 2\n",
      "JAGODIC-KURIDZA, MARKO - Predicted: 0, Real: 1\n",
      "VAN ROSSOM, SAM - Predicted: 1, Real: 0\n",
      "PIERRE, DYSHAWN - Predicted: 0, Real: 1\n",
      "MORETTI, DAVIDE - Predicted: 1, Real: 0\n",
      "SAYBIR, YIGITCAN - Predicted: 0, Real: 1\n",
      "FONTECCHIO, SIMONE - Predicted: 0, Real: 1\n",
      "JOVIC, STEFAN - Predicted: 1, Real: 0\n",
      "SINGLETON, CHRIS - Predicted: 0, Real: 1\n",
      "ANTONOV, SEMEN - Predicted: 0, Real: 1\n",
      "BOOKER, DEVIN - Predicted: 1, Real: 2\n",
      "NIKIC, KRESIMIR - Predicted: 1, Real: 2\n"
     ]
    }
   ],
   "source": [
    "# Classifie\n",
    "clf = neighbors.KNeighborsClassifier(n_neighbors= 5)\n",
    "# Train\n",
    "clf.fit(featVecs_train, labels_train)\n",
    "\n",
    "#Predict\n",
    "pred_train = clf.predict(featVecs_train)\n",
    "pred_test = clf.predict(featVecs_test)\n",
    "\n",
    "#Accuracy\n",
    "print('Accuracy train KNeighborsClassifier: ' + str(accuracy_score(labels_train, pred_train).round(4)))\n",
    "print('Accuracy test KNeighborsClassifier: ' + str(accuracy_score(labels_test, pred_test).round(4)))\n",
    "\n",
    "#Confusion Matrix \n",
    "cm = confusion_matrix(y_true =labels_test,\n",
    "                      y_pred =pred_test, labels=[0,1,2])\n",
    "\n",
    "\n",
    "ax= plt.subplot()\n",
    "sns.heatmap(cm, annot=True, fmt='g', ax=ax)  \n",
    "# labels, title and ticks\n",
    "lbls = list([\"Guard\", \"Forward\", \"Center\"])\n",
    "ax.set_xlabel('Prediccions')\n",
    "ax.set_ylabel('Original labels')\n",
    "ax.set_title('Confusion matrix SVM')\n",
    "ax.xaxis.set_ticklabels(lbls) \n",
    "plt.xticks(rotation=90)\n",
    "plt.yticks(np.arange(0.5, 3.5, 1.0))\n",
    "ax.yaxis.set_ticklabels(lbls)\n",
    "plt.yticks(rotation=0)\n",
    "\n",
    "plt.gcf().set_size_inches(9, 6)\n",
    "plt.show()\n",
    "\n",
    "#Classification Report\n",
    "print(\"Clasification report KNeighborsClassifier\")\n",
    "print(classification_report(labels_test, pred_test, target_names=[\"Guard\", \"Forward\", \"Center\"]))\n",
    "\n",
    "#Print failure cases\n",
    "for iTest in range(0, len(featVecs_test)):\n",
    "    pred = pred_test[iTest]\n",
    "    if pred != labels_test[iTest]:\n",
    "        print(str(names_test[iTest]) + ' - Predicted: ' + str(pred) + ', Real: ' + str(labels_test[iTest]))"
   ]
  },
  {
   "cell_type": "markdown",
   "metadata": {},
   "source": [
    "#### Comments\n",
    "This models fits than SVM and also is not overfitted. I'm not appreciate big differents in the results"
   ]
  },
  {
   "cell_type": "markdown",
   "metadata": {},
   "source": [
    "### Random Forest Classifier"
   ]
  },
  {
   "cell_type": "code",
   "execution_count": 9,
   "metadata": {},
   "outputs": [
    {
     "name": "stdout",
     "output_type": "stream",
     "text": [
      "Accuracy train RandomForestClassifier: 0.9855\n",
      "Accuracy test RandomForestClassifier: 0.7885\n"
     ]
    },
    {
     "data": {
      "image/png": "[encoded data removed]",
      "text/plain": [
       "<Figure size 648x432 with 2 Axes>"
      ]
     },
     "metadata": {
      "needs_background": "light"
     },
     "output_type": "display_data"
    },
    {
     "name": "stdout",
     "output_type": "stream",
     "text": [
      "Clasification report RandomForestClassifier\n",
      "              precision    recall  f1-score   support\n",
      "\n",
      "       Guard       0.85      0.96      0.90        23\n",
      "     Forward       0.75      0.63      0.69        19\n",
      "      Center       0.70      0.70      0.70        10\n",
      "\n",
      "    accuracy                           0.79        52\n",
      "   macro avg       0.77      0.76      0.76        52\n",
      "weighted avg       0.78      0.79      0.78        52\n",
      "\n",
      "YABUSELE, GUERSCHON - Predicted: 2, Real: 1\n",
      "KARASEV, SERGEY - Predicted: 0, Real: 1\n",
      "VEZENKOV, SASHA - Predicted: 2, Real: 1\n",
      "MAHMUTOGLU, MELIH - Predicted: 1, Real: 0\n",
      "JAGODIC-KURIDZA, MARKO - Predicted: 2, Real: 1\n",
      "PIERRE, DYSHAWN - Predicted: 0, Real: 1\n",
      "RADOSEVIC, LEON - Predicted: 1, Real: 2\n",
      "SAYBIR, YIGITCAN - Predicted: 0, Real: 1\n",
      "FONTECCHIO, SIMONE - Predicted: 0, Real: 1\n",
      "BOOKER, DEVIN - Predicted: 1, Real: 2\n",
      "NIKIC, KRESIMIR - Predicted: 1, Real: 2\n"
     ]
    }
   ],
   "source": [
    "# Classifie\n",
    "clf = ensemble.RandomForestClassifier(random_state=1)\n",
    "# Train\n",
    "clf.fit(featVecs_train, labels_train)\n",
    "\n",
    "#Predict\n",
    "pred_train = clf.predict(featVecs_train)\n",
    "pred_test = clf.predict(featVecs_test)\n",
    "\n",
    "#Accuracy\n",
    "print('Accuracy train RandomForestClassifier: ' + str(accuracy_score(labels_train, pred_train).round(4)))\n",
    "print('Accuracy test RandomForestClassifier: ' + str(accuracy_score(labels_test, pred_test).round(4)))\n",
    "\n",
    "\n",
    "#Confusion Matrix \n",
    "cm = confusion_matrix(y_true =labels_test,\n",
    "                      y_pred =pred_test, labels=[0,1,2])\n",
    "\n",
    "\n",
    "ax= plt.subplot()\n",
    "sns.heatmap(cm, annot=True, fmt='g', ax=ax)  \n",
    "# labels, title and ticks\n",
    "lbls = list([\"Guard\", \"Forward\", \"Center\"])\n",
    "ax.set_xlabel('Prediccions')\n",
    "ax.set_ylabel('Original labels')\n",
    "ax.set_title('Confusion matrix SVM')\n",
    "ax.xaxis.set_ticklabels(lbls) \n",
    "plt.xticks(rotation=90)\n",
    "plt.yticks(np.arange(0.5, 3.5, 1.0))\n",
    "ax.yaxis.set_ticklabels(lbls)\n",
    "plt.yticks(rotation=0)\n",
    "\n",
    "plt.gcf().set_size_inches(9, 6)\n",
    "plt.show()\n",
    "\n",
    "#Classification Report\n",
    "print(\"Clasification report RandomForestClassifier\")\n",
    "print(classification_report(labels_test, pred_test, target_names=[\"Guard\", \"Forward\", \"Center\"]))\n",
    "\n",
    "#Print failure cases\n",
    "for iTest in range(0, len(featVecs_test)):\n",
    "    pred = pred_test[iTest]\n",
    "    if pred != labels_test[iTest]:\n",
    "        print(str(names_test[iTest]) + ' - Predicted: ' + str(pred) + ', Real: ' + str(labels_test[iTest]))"
   ]
  },
  {
   "cell_type": "markdown",
   "metadata": {},
   "source": [
    "#### Comments\n",
    "This model is the best, but it's overfitted. I should do finetunning in this model to not have overfitting.\n"
   ]
  },
  {
   "cell_type": "markdown",
   "metadata": {},
   "source": [
    "## Visualization\n",
    "\n",
    "Finally, I can visualize results in a 2D space by using Principal Component Analysis. This time the color (tags) belong to the true player position class. This will help us to see how are grouped the different players for position.\n"
   ]
  },
  {
   "cell_type": "code",
   "execution_count": 10,
   "metadata": {},
   "outputs": [
    {
     "data": {
      "image/png": "[encoded data removed]",
      "text/plain": [
       "<Figure size 432x288 with 1 Axes>"
      ]
     },
     "metadata": {
      "needs_background": "light"
     },
     "output_type": "display_data"
    }
   ],
   "source": [
    "# Visualize\n",
    "pca = PCA(n_components=2, random_state = 1)\n",
    "principalComponents = pca.fit_transform(featVecs_test)\n",
    "\n",
    "colormaps = [\"red\", \"green\", \"blue\"]\n",
    "posS = ['Guard','Forward','Center']\n",
    "    \n",
    "pred_test = np.array(pred_test)\n",
    "for iPos in range(0, 3):\n",
    "    plt.scatter(principalComponents[pred_test == (iPos), 0], principalComponents[pred_test == (iPos), 1], s=50, c=colormaps[iPos],  label=posS[iPos])\n",
    "    \n",
    "plt.legend(scatterpoints=1, loc='best')\n",
    "plt.grid()\n",
    "plt.show()\n"
   ]
  },
  {
   "cell_type": "markdown",
   "metadata": {},
   "source": [
    "## FINAL COMMENTS\n",
    "Although ~0.71 doesn't seem to be the best model ever... Is the model performing poorly? Not for me! When building Machine Learning models, sometimes you don't need to have the best accuracy in a tuned model with hundreds of hyperparameters; instead, sometimes it is worth thinking about the intrinsic details of the given classes and recognize the failure patterns.\n",
    "In this concrete study, the classification in only three position is poor, in basketball is common five positions Point Guard, Shotting Guard, Small Forward, Power Forward and Center. \n",
    "There players that can play in two or three different position and this leads to missclassification.\n",
    "\n",
    "Also, the stats used are basics. Nowadays is used advanced stats that helps to analyze better the playes like efective field gold or floor percentatge. These new stats will likely improve the accuracy of the model. The weight and height are helpful.\n",
    "Also I'm not finetunned the models to avoid overfitting, begging trees or changing the voting policy, for exemple. \n",
    "\n",
    "Lastly, all these algorithms are supervised. To create new labels we may use unsupervised algorithms to create five o more differents cluster(positions) that fits better with the data. I suggest K-means or Hierarchical clustering to create the cluster. We can see in the visualitzation that maybe exists more groups.\n",
    "\n"
   ]
  }
 ],
 "metadata": {
  "kernelspec": {
   "display_name": "Python 3",
   "language": "python",
   "name": "python3"
  },
  "language_info": {
   "codemirror_mode": {
    "name": "ipython",
    "version": 3
   },
   "file_extension": ".py",
   "mimetype": "text/x-python",
   "name": "python",
   "nbconvert_exporter": "python",
   "pygments_lexer": "ipython3",
   "version": "3.7.10"
  }
 },
 "nbformat": 4,
 "nbformat_minor": 4
}
